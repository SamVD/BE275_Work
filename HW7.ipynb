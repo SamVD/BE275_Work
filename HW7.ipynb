{
 "cells": [
  {
   "cell_type": "markdown",
   "metadata": {},
   "source": [
    "# Week 9: Clustering of Masaeli et al.\n",
    "\n",
    "We're going to reimplement an SVM model from a [Di Carlo lab's study of the mechanical properties of cells](https://www.nature.com/articles/srep37863). With this, we'll then explore some of its properties."
   ]
  },
  {
   "cell_type": "code",
   "execution_count": 1,
   "metadata": {
    "inputHidden": false,
    "outputHidden": false
   },
   "outputs": [
    {
     "data": {
      "text/html": [
       "<div>\n",
       "<style scoped>\n",
       "    .dataframe tbody tr th:only-of-type {\n",
       "        vertical-align: middle;\n",
       "    }\n",
       "\n",
       "    .dataframe tbody tr th {\n",
       "        vertical-align: top;\n",
       "    }\n",
       "\n",
       "    .dataframe thead th {\n",
       "        text-align: right;\n",
       "    }\n",
       "</style>\n",
       "<table border=\"1\" class=\"dataframe\">\n",
       "  <thead>\n",
       "    <tr style=\"text-align: right;\">\n",
       "      <th></th>\n",
       "      <th>V1</th>\n",
       "      <th>V2</th>\n",
       "      <th>V3</th>\n",
       "      <th>V4</th>\n",
       "      <th>V5</th>\n",
       "      <th>V6</th>\n",
       "      <th>V7</th>\n",
       "      <th>V8</th>\n",
       "      <th>V9</th>\n",
       "      <th>V10</th>\n",
       "      <th>V11</th>\n",
       "      <th>V12</th>\n",
       "      <th>V13</th>\n",
       "      <th>V14</th>\n",
       "      <th>V15</th>\n",
       "      <th>V16</th>\n",
       "      <th>V17</th>\n",
       "      <th>V18</th>\n",
       "      <th>V19</th>\n",
       "      <th>Sample</th>\n",
       "    </tr>\n",
       "  </thead>\n",
       "  <tbody>\n",
       "    <tr>\n",
       "      <th>0</th>\n",
       "      <td>7.705763</td>\n",
       "      <td>0.991449</td>\n",
       "      <td>0.023529</td>\n",
       "      <td>41.733333</td>\n",
       "      <td>1.048193</td>\n",
       "      <td>43.5</td>\n",
       "      <td>5</td>\n",
       "      <td>68.713823</td>\n",
       "      <td>0.781410</td>\n",
       "      <td>0.869809</td>\n",
       "      <td>41.605769</td>\n",
       "      <td>5.0</td>\n",
       "      <td>0.999950</td>\n",
       "      <td>50.6</td>\n",
       "      <td>11</td>\n",
       "      <td>56.8</td>\n",
       "      <td>9</td>\n",
       "      <td>5</td>\n",
       "      <td>0.000000</td>\n",
       "      <td>WBC</td>\n",
       "    </tr>\n",
       "    <tr>\n",
       "      <th>1</th>\n",
       "      <td>296.676531</td>\n",
       "      <td>3.069244</td>\n",
       "      <td>0.515789</td>\n",
       "      <td>55.275000</td>\n",
       "      <td>3.130435</td>\n",
       "      <td>108.0</td>\n",
       "      <td>155</td>\n",
       "      <td>271.802401</td>\n",
       "      <td>0.885943</td>\n",
       "      <td>0.820493</td>\n",
       "      <td>56.551683</td>\n",
       "      <td>5.0</td>\n",
       "      <td>0.893470</td>\n",
       "      <td>76.3</td>\n",
       "      <td>8</td>\n",
       "      <td>668.3</td>\n",
       "      <td>9</td>\n",
       "      <td>25</td>\n",
       "      <td>0.037783</td>\n",
       "      <td>WBC</td>\n",
       "    </tr>\n",
       "    <tr>\n",
       "      <th>2</th>\n",
       "      <td>537.484884</td>\n",
       "      <td>1.001452</td>\n",
       "      <td>0.058824</td>\n",
       "      <td>42.800000</td>\n",
       "      <td>1.125000</td>\n",
       "      <td>40.5</td>\n",
       "      <td>280</td>\n",
       "      <td>75.633843</td>\n",
       "      <td>0.843340</td>\n",
       "      <td>0.835149</td>\n",
       "      <td>42.076923</td>\n",
       "      <td>5.0</td>\n",
       "      <td>0.999243</td>\n",
       "      <td>50.5</td>\n",
       "      <td>7</td>\n",
       "      <td>36.6</td>\n",
       "      <td>11</td>\n",
       "      <td>3</td>\n",
       "      <td>0.000000</td>\n",
       "      <td>WBC</td>\n",
       "    </tr>\n",
       "    <tr>\n",
       "      <th>3</th>\n",
       "      <td>701.235607</td>\n",
       "      <td>1.130061</td>\n",
       "      <td>0.107527</td>\n",
       "      <td>46.266667</td>\n",
       "      <td>1.240964</td>\n",
       "      <td>51.5</td>\n",
       "      <td>365</td>\n",
       "      <td>90.187681</td>\n",
       "      <td>0.705554</td>\n",
       "      <td>0.846169</td>\n",
       "      <td>47.645833</td>\n",
       "      <td>5.0</td>\n",
       "      <td>0.999204</td>\n",
       "      <td>60.4</td>\n",
       "      <td>6</td>\n",
       "      <td>62.7</td>\n",
       "      <td>7</td>\n",
       "      <td>11</td>\n",
       "      <td>0.021176</td>\n",
       "      <td>WBC</td>\n",
       "    </tr>\n",
       "    <tr>\n",
       "      <th>4</th>\n",
       "      <td>720.500015</td>\n",
       "      <td>0.995128</td>\n",
       "      <td>0.023256</td>\n",
       "      <td>39.875000</td>\n",
       "      <td>1.047619</td>\n",
       "      <td>44.0</td>\n",
       "      <td>375</td>\n",
       "      <td>65.618147</td>\n",
       "      <td>0.847418</td>\n",
       "      <td>0.831938</td>\n",
       "      <td>44.894231</td>\n",
       "      <td>4.5</td>\n",
       "      <td>0.989088</td>\n",
       "      <td>73.4</td>\n",
       "      <td>9</td>\n",
       "      <td>40.5</td>\n",
       "      <td>8</td>\n",
       "      <td>7</td>\n",
       "      <td>0.000000</td>\n",
       "      <td>WBC</td>\n",
       "    </tr>\n",
       "  </tbody>\n",
       "</table>\n",
       "</div>"
      ],
      "text/plain": [
       "           V1        V2        V3         V4        V5     V6   V7  \\\n",
       "0    7.705763  0.991449  0.023529  41.733333  1.048193   43.5    5   \n",
       "1  296.676531  3.069244  0.515789  55.275000  3.130435  108.0  155   \n",
       "2  537.484884  1.001452  0.058824  42.800000  1.125000   40.5  280   \n",
       "3  701.235607  1.130061  0.107527  46.266667  1.240964   51.5  365   \n",
       "4  720.500015  0.995128  0.023256  39.875000  1.047619   44.0  375   \n",
       "\n",
       "           V8        V9       V10        V11  V12       V13   V14  V15    V16  \\\n",
       "0   68.713823  0.781410  0.869809  41.605769  5.0  0.999950  50.6   11   56.8   \n",
       "1  271.802401  0.885943  0.820493  56.551683  5.0  0.893470  76.3    8  668.3   \n",
       "2   75.633843  0.843340  0.835149  42.076923  5.0  0.999243  50.5    7   36.6   \n",
       "3   90.187681  0.705554  0.846169  47.645833  5.0  0.999204  60.4    6   62.7   \n",
       "4   65.618147  0.847418  0.831938  44.894231  4.5  0.989088  73.4    9   40.5   \n",
       "\n",
       "   V17  V18       V19 Sample  \n",
       "0    9    5  0.000000    WBC  \n",
       "1    9   25  0.037783    WBC  \n",
       "2   11    3  0.000000    WBC  \n",
       "3    7   11  0.021176    WBC  \n",
       "4    8    7  0.000000    WBC  "
      ]
     },
     "execution_count": 1,
     "metadata": {},
     "output_type": "execute_result"
    }
   ],
   "source": [
    "%matplotlib inline\n",
    "\n",
    "import pandas as pd\n",
    "import matplotlib.pyplot as plt\n",
    "import numpy as np\n",
    "from sklearn.decomposition import PCA\n",
    "from sklearn import preprocessing\n",
    "from sklearn.preprocessing import scale, StandardScaler\n",
    "from sklearn.cross_decomposition import PLSRegression\n",
    "from sklearn.svm import SVC # \"Support vector classifier\"\n",
    "from sklearn.model_selection import cross_val_score\n",
    "from sklearn.model_selection import cross_val_predict\n",
    "from sklearn.metrics import confusion_matrix\n",
    "from sklearn.model_selection import train_test_split\n",
    "\n",
    "mat = pd.read_csv('WBC_copy.csv')\n",
    "mat.drop('Unnamed: 0', axis=1, inplace=True)\n",
    "mat.head()"
   ]
  },
  {
   "cell_type": "markdown",
   "metadata": {},
   "source": [
    "#### (1) Choose any two variables and plot them against cell identity (in color). Do you see clear separation of these classes? What does this tell you about whether or not you can classify the cells of differing type?"
   ]
  },
  {
   "cell_type": "code",
   "execution_count": 2,
   "metadata": {
    "inputHidden": false,
    "outputHidden": false
   },
   "outputs": [
    {
     "name": "stdout",
     "output_type": "stream",
     "text": [
      "It shows that there is not a clear sepeartion of the three classes based on any two variables\n"
     ]
    },
    {
     "data": {
      "text/plain": [
       "<matplotlib.collections.PathCollection at 0x2577a0bc880>"
      ]
     },
     "execution_count": 2,
     "metadata": {},
     "output_type": "execute_result"
    },
    {
     "data": {
      "image/png": "[encoded data removed]",
      "text/plain": [
       "<Figure size 432x288 with 1 Axes>"
      ]
     },
     "metadata": {
      "needs_background": "light"
     },
     "output_type": "display_data"
    },
    {
     "data": {
      "image/png": "[encoded data removed]",
      "text/plain": [
       "<Figure size 432x288 with 1 Axes>"
      ]
     },
     "metadata": {
      "needs_background": "light"
     },
     "output_type": "display_data"
    }
   ],
   "source": [
    "# Answer\n",
    "Mat = mat.to_numpy()\n",
    "Vars = (Mat[:,:19])\n",
    "colorlist = []\n",
    "\n",
    "for VI in zip(mat.V1, mat.V2, mat.Sample):\n",
    "    if VI[2] == \"WBC\":\n",
    "        colorlist.append('r')\n",
    "    elif VI[2]==\"HL60\":\n",
    "        colorlist.append('b')\n",
    "    elif VI[2] == \"MCF7\":\n",
    "        colorlist.append('k')\n",
    "        \n",
    "plt.scatter(mat.V3, mat.V14, c = colorlist)\n",
    "plt.figure()\n",
    "\n",
    "print(\"It shows that there is not a clear sepeartion of the three classes based on any two variables\")\n",
    "\n",
    "scaler = preprocessing.StandardScaler().fit(Mat[:,:19])\n",
    "scaled_Vars = scaler.transform(Mat[:,:19])\n",
    "\n",
    "plt.scatter(scaled_Vars[:,2], scaled_Vars[:,13], c = colorlist)"
   ]
  },
  {
   "cell_type": "markdown",
   "metadata": {},
   "source": [
    "The above plot shows that there does not seem to be any clear separation of classes in 2 Dimensions, this means we may be able to seperate these in higher dimensions, if there are not points that are exactly the same between classes. However, given how tight the clusters seem it is likely some points are unable to be seperated entirely even at higher dimensions using a linear cut. Therefore, we may need to change the kernel or basis of this in order to seperate the classes. "
   ]
  },
  {
   "cell_type": "markdown",
   "metadata": {
    "inputHidden": false,
    "outputHidden": false
   },
   "source": [
    "#### (2) Use principal components analysis to visualize the variation in each variable. Plot the first two principal components against the cell type. Do you see better separation in this case? What does this tell you about your ability to distinguish the cell types?"
   ]
  },
  {
   "cell_type": "code",
   "execution_count": 3,
   "metadata": {},
   "outputs": [
    {
     "data": {
      "text/plain": [
       "<matplotlib.collections.PathCollection at 0x2577a5736d0>"
      ]
     },
     "execution_count": 3,
     "metadata": {},
     "output_type": "execute_result"
    },
    {
     "data": {
      "image/png": "[encoded data removed]",
      "text/plain": [
       "<Figure size 432x288 with 1 Axes>"
      ]
     },
     "metadata": {
      "needs_background": "light"
     },
     "output_type": "display_data"
    },
    {
     "data": {
      "image/png": "[encoded data removed]",
      "text/plain": [
       "<Figure size 432x288 with 1 Axes>"
      ]
     },
     "metadata": {
      "needs_background": "light"
     },
     "output_type": "display_data"
    }
   ],
   "source": [
    "# Answer\n",
    "Mat = mat.to_numpy()\n",
    "Vars = (Mat[:,:19])\n",
    "scaler = preprocessing.StandardScaler().fit(Mat[:,:19])\n",
    "scaled_Vars = scaler.transform(Mat[:,:19])\n",
    "labels = Mat[:,19]\n",
    "ncomp = 10\n",
    "pca = PCA(n_components=ncomp)\n",
    "SVM_PCA = pca.fit_transform(Vars)\n",
    "SSVM_PCA = pca.fit_transform(scaled_Vars)\n",
    "\n",
    "plt.scatter(SVM_PCA[:, 0], SVM_PCA[:, 1], c = colorlist)\n",
    "\n",
    "plt.figure()\n",
    "plt.scatter(SSVM_PCA[:, 0], SSVM_PCA[:, 1], c = colorlist)"
   ]
  },
  {
   "cell_type": "markdown",
   "metadata": {},
   "source": [
    "Plotting the first two principal components does spread out the data a bit, but it is still not possible to distinguish classes from this technique alone. It tells us that the class cannot be sepearated by max variance alone most likely. The classes definetly have overlap between them and may be related to eachother or have covariance. It is not possible to seperate these classes using only two dimensions."
   ]
  },
  {
   "cell_type": "markdown",
   "metadata": {},
   "source": [
    "#### (3) How does partial least squares regression fare in discriminating cancer and non-cancer cells (make cancer=1 and non-cancer=0; this is called PLS-DA)? How does this relate to the results in the previous questions?"
   ]
  },
  {
   "cell_type": "markdown",
   "metadata": {},
   "source": [
    "The graph below shows that even when taking into account all the possible dimensions that it is impossible to account for all of the variance in the data. It also shows how in the previous data that the first two components only explain 67% confirming that those two components do not have great explanation of the data. "
   ]
  },
  {
   "cell_type": "code",
   "execution_count": 4,
   "metadata": {},
   "outputs": [
    {
     "name": "stdout",
     "output_type": "stream",
     "text": [
      "Array of Percentage of variance in prediction explained by the sum of total PCAs:  [0.5876867  0.6717032  0.68142963 0.68606013 0.68930113 0.69147025\n",
      " 0.69269008 0.6929857  0.69302842 0.69304711 0.69305119 0.69305274\n",
      " 0.69305403 0.69305484 0.69305523 0.69305556 0.69305615 0.69305618]\n"
     ]
    },
    {
     "data": {
      "image/png": "[encoded data removed]",
      "text/plain": [
       "<Figure size 720x720 with 1 Axes>"
      ]
     },
     "metadata": {
      "needs_background": "light"
     },
     "output_type": "display_data"
    }
   ],
   "source": [
    "# Answer\n",
    "Mat = mat.to_numpy()\n",
    "Vars = (Mat[:,:19])\n",
    "scaler = preprocessing.StandardScaler().fit(Mat[:,:19])\n",
    "scaled_Vars = scaler.transform(Mat[:,:19])\n",
    "\n",
    "Cancer_Cell = []\n",
    "Healthy_Cell = []\n",
    "X_S = scaled_Vars\n",
    "\n",
    "for VII in zip(mat.V1, mat.V2, mat.Sample):\n",
    "    if VII[2] == \"WBC\":\n",
    "        Cancer_Cell.append(0)\n",
    "        Healthy_Cell.append(1)\n",
    "    elif VII[2]==\"HL60\":\n",
    "        Cancer_Cell.append(1)\n",
    "        Healthy_Cell.append(0)\n",
    "    elif VII[2] == \"MCF7\":\n",
    "        Cancer_Cell.append(1)\n",
    "        Healthy_Cell.append(0)\n",
    "\n",
    "\n",
    "Cancer_Cell = np.array(Cancer_Cell)\n",
    "Y_S = (Cancer_Cell)\n",
    "\n",
    "R2Y = []\n",
    "#print(Y_S)\n",
    "for n in range (1, 19):\n",
    "    pls = PLSRegression(n_components = n, scale=True, max_iter=500, tol=1e-06, copy=True)\n",
    "    pls.fit_transform(X_S, Y_S)\n",
    "    r2 = pls.score(X_S, Y_S)\n",
    "    R2Y = np.append(R2Y, r2)\n",
    "\n",
    "pcas = np.arange(1,19,1)   \n",
    "fig = plt.figure(figsize = (10,10))\n",
    "plt.plot(pcas,R2Y)\n",
    "plt.xlabel(\"Number of PCAs\")\n",
    "plt.ylabel(\"R2Y value\")\n",
    "\n",
    "\n",
    "\n",
    "print(\"Array of Percentage of variance in prediction explained by the sum of total PCAs: \" , R2Y)\n"
   ]
  },
  {
   "cell_type": "markdown",
   "metadata": {},
   "source": [
    "#### (4) Setup a support vector machine classifier (with linear kernel) to distinguish cancer and non-cancer.\n",
    "\n",
    "Evaluate how well this performs."
   ]
  },
  {
   "cell_type": "markdown",
   "metadata": {},
   "source": [
    "Changing the various this SVM shows that the SVM is able to seperate the data way better than pca could. It is able to seperate the data with an average cross validated score of 96% and from the confusion matrix have a specificity of 0.99 and a sensitivity of 0.85. "
   ]
  },
  {
   "cell_type": "code",
   "execution_count": 5,
   "metadata": {},
   "outputs": [
    {
     "name": "stdout",
     "output_type": "stream",
     "text": [
      "19\n",
      "10108\n"
     ]
    }
   ],
   "source": [
    "# Answer\n",
    "Mat = mat.to_numpy()\n",
    "Vars = (Mat[:,:19])\n",
    "scaler = preprocessing.StandardScaler().fit(Mat[:,:19])\n",
    "scaled_Vars = scaler.transform(Mat[:,:19])\n",
    "\n",
    "Cancer_Cell = []\n",
    "Healthy_Cell = []\n",
    "X_S = scaled_Vars\n",
    "\n",
    "for VII in zip(mat.V1, mat.V2, mat.Sample):\n",
    "    if VII[2] == \"WBC\":\n",
    "        Cancer_Cell.append(0)\n",
    "        Healthy_Cell.append(1)\n",
    "    elif VII[2]==\"HL60\":\n",
    "        Cancer_Cell.append(1)\n",
    "        Healthy_Cell.append(0)\n",
    "    elif VII[2] == \"MCF7\":\n",
    "        Cancer_Cell.append(1)\n",
    "        Healthy_Cell.append(0)\n",
    "\n",
    "\n",
    "Cancer_Cell = np.array(Cancer_Cell)\n",
    "Y_S = (Cancer_Cell)\n",
    "print(np.size(X_S, 1))\n",
    "print(np.size(Y_S,0))"
   ]
  },
  {
   "cell_type": "code",
   "execution_count": 6,
   "metadata": {},
   "outputs": [
    {
     "data": {
      "text/plain": [
       "SVC(C=1, kernel='linear')"
      ]
     },
     "execution_count": 6,
     "metadata": {},
     "output_type": "execute_result"
    }
   ],
   "source": [
    "model_HW = SVC(kernel='linear', C=1)\n",
    "model_HW.fit(X_S, Y_S)"
   ]
  },
  {
   "cell_type": "code",
   "execution_count": 7,
   "metadata": {},
   "outputs": [
    {
     "name": "stdout",
     "output_type": "stream",
     "text": [
      "cross-validated estimated class for each input data point\n",
      "[0 0 0 ... 1 1 1]\n",
      "score by cross-validation:\n",
      "[0.93521266 0.97428289 0.98219585 0.97674419 0.97971301]\n",
      "Average Score across all folds:\n",
      "0.9696297188129975\n",
      "\n",
      "Signed (labeled psotive or negative based on side of hyperplane) proportional distance from hyperplane\n",
      "[-2.2990688  -0.93123087 -2.286042   ...  0.67688003  3.38425725\n",
      "  2.21831107]\n",
      "\n",
      "Confusion Matrix:\n"
     ]
    },
    {
     "data": {
      "text/plain": [
       "array([[8546,   83],\n",
       "       [ 212, 1267]], dtype=int64)"
      ]
     },
     "execution_count": 7,
     "metadata": {},
     "output_type": "execute_result"
    }
   ],
   "source": [
    "skf = 5\n",
    "\n",
    "cvp = cross_val_predict(model_HW, X_S, Y_S, cv = skf)\n",
    "print(\"cross-validated estimated class for each input data point\")\n",
    "print(cvp)\n",
    "\n",
    "cvs = cross_val_score(model_HW, X_S, Y_S, cv = skf)\n",
    "print(\"score by cross-validation:\")\n",
    "print(cvs)\n",
    "print(\"Average Score across all folds:\")\n",
    "print(np.sum(cvs)/np.size(cvs))\n",
    "print()\n",
    "#print(\"area under ROC:\")\n",
    "#print(roc_auc_score(y_a, model.predict_proba(GEC_R3404_S1)[:,1]))\n",
    "\n",
    "print(\"Signed (labeled psotive or negative based on side of hyperplane) proportional distance from hyperplane\")\n",
    "print(model_HW.decision_function(X_S))\n",
    "print()\n",
    "\n",
    "print(\"Confusion Matrix:\")\n",
    "pred = model_HW.predict(X_S)\n",
    "confusion_matrix(Y_S, pred)"
   ]
  },
  {
   "cell_type": "markdown",
   "metadata": {},
   "source": [
    "#### (5) Choose and justify your selection of a different kernel to use in SVM classification. (Hint: It should be a kernel with varying complexity, such as polynomial or RBF.)"
   ]
  },
  {
   "cell_type": "markdown",
   "metadata": {},
   "source": [
    "The best model of the proposed models below models below, is the rbf kernel with a regression factor of (C=1), because it gives us the highest average cross validated score will not perfectly fitting the test data (and lowering the average cross validated score, caused by overfitting) and also having the best sensitivity and specificity from the confusion matrix. "
   ]
  },
  {
   "cell_type": "code",
   "execution_count": 8,
   "metadata": {},
   "outputs": [
    {
     "data": {
      "text/plain": [
       "SVC(C=1)"
      ]
     },
     "execution_count": 8,
     "metadata": {},
     "output_type": "execute_result"
    }
   ],
   "source": [
    "# Answer\n",
    "model_HW_rbf = SVC(kernel='rbf', C=1)\n",
    "model_HW_rbf.fit(X_S, Y_S)"
   ]
  },
  {
   "cell_type": "code",
   "execution_count": 9,
   "metadata": {},
   "outputs": [
    {
     "name": "stdout",
     "output_type": "stream",
     "text": [
      "cross-validated estimated class for each input data point\n",
      "[0 1 0 ... 1 1 1]\n",
      "score by cross-validation:\n",
      "[0.93372898 0.97082097 0.98417409 0.97476497 0.97525977]\n",
      "Average Score across all folds:\n",
      "0.9677497551671838\n",
      "\n",
      "Signed (labeled psotive or negative based on side of hyperplane) proportional distance from hyperplane\n",
      "[-1.07943764 -0.95822344 -1.15637346 ...  0.68094877  1.59467285\n",
      "  1.78875959]\n",
      "\n",
      "Confusion Matrix:\n"
     ]
    },
    {
     "data": {
      "text/plain": [
       "array([[8601,   28],\n",
       "       [ 155, 1324]], dtype=int64)"
      ]
     },
     "execution_count": 9,
     "metadata": {},
     "output_type": "execute_result"
    }
   ],
   "source": [
    "skf = 5\n",
    "\n",
    "cvp = cross_val_predict(model_HW_rbf, X_S, Y_S, cv = skf)\n",
    "print(\"cross-validated estimated class for each input data point\")\n",
    "print(cvp)\n",
    "\n",
    "cvs = cross_val_score(model_HW_rbf, X_S, Y_S, cv = skf)\n",
    "print(\"score by cross-validation:\")\n",
    "print(cvs)\n",
    "print(\"Average Score across all folds:\")\n",
    "print(np.sum(cvs)/np.size(cvs))\n",
    "print()\n",
    "#print(\"area under ROC:\")\n",
    "#print(roc_auc_score(y_a, model.predict_proba(GEC_R3404_S1)[:,1]))\n",
    "\n",
    "print(\"Signed (labeled psotive or negative based on side of hyperplane) proportional distance from hyperplane\")\n",
    "print(model_HW_rbf.decision_function(X_S))\n",
    "print()\n",
    "\n",
    "print(\"Confusion Matrix:\")\n",
    "pred = model_HW_rbf.predict(X_S)\n",
    "confusion_matrix(Y_S, pred)"
   ]
  },
  {
   "cell_type": "code",
   "execution_count": 10,
   "metadata": {},
   "outputs": [
    {
     "data": {
      "text/plain": [
       "SVC(C=1, kernel='poly')"
      ]
     },
     "execution_count": 10,
     "metadata": {},
     "output_type": "execute_result"
    }
   ],
   "source": [
    "model_HW_poly = SVC(kernel='poly', C=1)\n",
    "model_HW_poly.fit(X_S, Y_S)"
   ]
  },
  {
   "cell_type": "code",
   "execution_count": 11,
   "metadata": {},
   "outputs": [
    {
     "name": "stdout",
     "output_type": "stream",
     "text": [
      "cross-validated estimated class for each input data point\n",
      "[0 1 0 ... 1 1 1]\n",
      "score by cross-validation:\n",
      "[0.92433234 0.96785361 0.97181009 0.9673429  0.97179614]\n",
      "Average Score across all folds:\n",
      "0.9606270167200869\n",
      "\n",
      "Signed (labeled psotive or negative based on side of hyperplane) proportional distance from hyperplane\n",
      "[-1.40118601 -0.9998971  -1.50069459 ...  1.35645216 10.05289543\n",
      "  5.44247406]\n",
      "\n",
      "Confusion Matrix:\n"
     ]
    },
    {
     "data": {
      "text/plain": [
       "array([[8619,   10],\n",
       "       [ 182, 1297]], dtype=int64)"
      ]
     },
     "execution_count": 11,
     "metadata": {},
     "output_type": "execute_result"
    }
   ],
   "source": [
    "skf = 5\n",
    "\n",
    "cvp = cross_val_predict(model_HW_poly, X_S, Y_S, cv = skf)\n",
    "print(\"cross-validated estimated class for each input data point\")\n",
    "print(cvp)\n",
    "\n",
    "cvs = cross_val_score(model_HW_poly, X_S, Y_S, cv = skf)\n",
    "print(\"score by cross-validation:\")\n",
    "print(cvs)\n",
    "print(\"Average Score across all folds:\")\n",
    "print(np.sum(cvs)/np.size(cvs))\n",
    "print()\n",
    "#print(\"area under ROC:\")\n",
    "#print(roc_auc_score(y_a, model.predict_proba(GEC_R3404_S1)[:,1]))\n",
    "\n",
    "print(\"Signed (labeled psotive or negative based on side of hyperplane) proportional distance from hyperplane\")\n",
    "print(model_HW_poly.decision_function(X_S))\n",
    "print()\n",
    "\n",
    "print(\"Confusion Matrix:\")\n",
    "pred = model_HW_poly.predict(X_S)\n",
    "confusion_matrix(Y_S, pred)"
   ]
  },
  {
   "cell_type": "markdown",
   "metadata": {},
   "source": [
    "#### (6) Vary the complexity of your kernel and evaluate the ability of it to descriminate data both directly and on cross-validation.\n",
    "\n",
    "How does the answer of which classification strategy vary based on whether you are performing cross-validation?"
   ]
  },
  {
   "cell_type": "markdown",
   "metadata": {},
   "source": [
    "By varying the data and looking at cross-validation vs the single test prediction error, we can determine the best performing model, when it has a high cross validated score, and high sensitivity and spceficity on a single test. And we see that these are inversely related at the extremes, if we make the test really good at predicting only one case, we get errors in the cross validated test. If we make the test really (loose) good at only the cross validated test, it will give us greater amounts of false positive and false negatives in the individual test. This is like the bias variance trade off, and we are looking for the most specific model that does not overfit the data. "
   ]
  },
  {
   "cell_type": "code",
   "execution_count": 12,
   "metadata": {},
   "outputs": [
    {
     "data": {
      "text/plain": [
       "SVC(C=1, degree=5, kernel='poly')"
      ]
     },
     "execution_count": 12,
     "metadata": {},
     "output_type": "execute_result"
    }
   ],
   "source": [
    "model_HW_poly_5 = SVC(kernel='poly', C=1, degree = 5)\n",
    "model_HW_poly_5.fit(X_S, Y_S)"
   ]
  },
  {
   "cell_type": "code",
   "execution_count": 13,
   "metadata": {},
   "outputs": [
    {
     "name": "stdout",
     "output_type": "stream",
     "text": [
      "cross-validated estimated class for each input data point\n",
      "[0 1 0 ... 1 1 1]\n",
      "score by cross-validation:\n",
      "[0.92087043 0.95400593 0.96439169 0.956952   0.95992083]\n",
      "Average Score across all folds:\n",
      "0.9512281773328615\n",
      "\n",
      "Signed (labeled psotive or negative based on side of hyperplane) proportional distance from hyperplane\n",
      "[-1.33286773 -0.99999492 -1.3827088  ...  4.21438864 39.6075785\n",
      "  6.0765518 ]\n",
      "\n",
      "Confusion Matrix:\n"
     ]
    },
    {
     "data": {
      "text/plain": [
       "array([[8627,    2],\n",
       "       [ 180, 1299]], dtype=int64)"
      ]
     },
     "execution_count": 13,
     "metadata": {},
     "output_type": "execute_result"
    }
   ],
   "source": [
    "# Answer\n",
    "skf = 5\n",
    "\n",
    "cvp = cross_val_predict(model_HW_poly_5, X_S, Y_S, cv = skf)\n",
    "print(\"cross-validated estimated class for each input data point\")\n",
    "print(cvp)\n",
    "\n",
    "cvs = cross_val_score(model_HW_poly_5, X_S, Y_S, cv = skf)\n",
    "print(\"score by cross-validation:\")\n",
    "print(cvs)\n",
    "print(\"Average Score across all folds:\")\n",
    "print(np.sum(cvs)/np.size(cvs))\n",
    "print()\n",
    "#print(\"area under ROC:\")\n",
    "#print(roc_auc_score(y_a, model.predict_proba(GEC_R3404_S1)[:,1]))\n",
    "\n",
    "print(\"Signed (labeled psotive or negative based on side of hyperplane) proportional distance from hyperplane\")\n",
    "print(model_HW_poly_5.decision_function(X_S))\n",
    "print()\n",
    "\n",
    "print(\"Confusion Matrix:\")\n",
    "pred = model_HW_poly_5.predict(X_S)\n",
    "confusion_matrix(Y_S, pred)"
   ]
  },
  {
   "cell_type": "code",
   "execution_count": 14,
   "metadata": {},
   "outputs": [
    {
     "data": {
      "text/plain": [
       "SVC(C=10000000000.0)"
      ]
     },
     "execution_count": 14,
     "metadata": {},
     "output_type": "execute_result"
    }
   ],
   "source": [
    "model_HW_rbf_2 = SVC(kernel='rbf', C=1E10)\n",
    "model_HW_rbf_2.fit(X_S, Y_S)"
   ]
  },
  {
   "cell_type": "code",
   "execution_count": 15,
   "metadata": {},
   "outputs": [
    {
     "name": "stdout",
     "output_type": "stream",
     "text": [
      "cross-validated estimated class for each input data point\n",
      "[1 0 0 ... 1 1 1]\n",
      "score by cross-validation:\n",
      "[0.73986152 0.9322453  0.95548961 0.94458189 0.89905987]\n",
      "Average Score across all folds:\n",
      "0.8942476401346691\n",
      "\n",
      "Signed (labeled psotive or negative based on side of hyperplane) proportional distance from hyperplane\n",
      "[-5.76691595 -1.00014406 -7.37691765 ...  5.48263836  4.09689762\n",
      "  4.82716663]\n",
      "\n",
      "Confusion Matrix:\n"
     ]
    },
    {
     "data": {
      "text/plain": [
       "array([[8629,    0],\n",
       "       [   0, 1479]], dtype=int64)"
      ]
     },
     "execution_count": 15,
     "metadata": {},
     "output_type": "execute_result"
    }
   ],
   "source": [
    "skf = 5\n",
    "\n",
    "cvp = cross_val_predict(model_HW_rbf_2, X_S, Y_S, cv = skf)\n",
    "print(\"cross-validated estimated class for each input data point\")\n",
    "print(cvp)\n",
    "\n",
    "cvs = cross_val_score(model_HW_rbf_2, X_S, Y_S, cv = skf)\n",
    "print(\"score by cross-validation:\")\n",
    "print(cvs)\n",
    "print(\"Average Score across all folds:\")\n",
    "print(np.sum(cvs)/np.size(cvs))\n",
    "print()\n",
    "#print(\"area under ROC:\")\n",
    "#print(roc_auc_score(y_a, model.predict_proba(GEC_R3404_S1)[:,1]))\n",
    "\n",
    "print(\"Signed (labeled psotive or negative based on side of hyperplane) proportional distance from hyperplane\")\n",
    "print(model_HW_rbf_2.decision_function(X_S))\n",
    "print()\n",
    "\n",
    "print(\"Confusion Matrix:\")\n",
    "pred = model_HW_rbf_2.predict(X_S)\n",
    "confusion_matrix(Y_S, pred)"
   ]
  },
  {
   "cell_type": "markdown",
   "metadata": {
    "tags": []
   },
   "source": [
    "#### (7) Your experimental collaborator asks you to determine whether she can collect a fewer number of measurements (cells) and still obtain the same classification efficiency when building a new estimator. How might you determine this? Can she?"
   ]
  },
  {
   "cell_type": "markdown",
   "metadata": {},
   "source": [
    "I did this by changing the test and training splits so that the model was trained on less data, therefore making it seem like less data was collected. Then when this model was tested against the test data it performed just as well, so she can do this. "
   ]
  },
  {
   "cell_type": "code",
   "execution_count": 16,
   "metadata": {},
   "outputs": [
    {
     "name": "stdout",
     "output_type": "stream",
     "text": [
      "19\n",
      "10108\n"
     ]
    }
   ],
   "source": [
    "Mat = mat.to_numpy()\n",
    "Vars = (Mat[:,:19])\n",
    "scaler = preprocessing.StandardScaler().fit(Mat[:,:19])\n",
    "scaled_Vars = scaler.transform(Mat[:,:19])\n",
    "\n",
    "Cancer_Cell = []\n",
    "Healthy_Cell = []\n",
    "X_S = scaled_Vars\n",
    "\n",
    "for VII in zip(mat.V1, mat.V2, mat.Sample):\n",
    "    if VII[2] == \"WBC\":\n",
    "        Cancer_Cell.append(0)\n",
    "        Healthy_Cell.append(1)\n",
    "    elif VII[2]==\"HL60\":\n",
    "        Cancer_Cell.append(1)\n",
    "        Healthy_Cell.append(0)\n",
    "    elif VII[2] == \"MCF7\":\n",
    "        Cancer_Cell.append(1)\n",
    "        Healthy_Cell.append(0)\n",
    "\n",
    "\n",
    "Cancer_Cell = np.array(Cancer_Cell)\n",
    "Y_S = (Cancer_Cell)\n",
    "print(np.size(X_S, 1))\n",
    "print(np.size(Y_S,0))"
   ]
  },
  {
   "cell_type": "code",
   "execution_count": 17,
   "metadata": {},
   "outputs": [
    {
     "data": {
      "text/plain": [
       "SVC(C=1)"
      ]
     },
     "execution_count": 17,
     "metadata": {},
     "output_type": "execute_result"
    }
   ],
   "source": [
    "# Answer\n",
    "#I can do this by building the model on a smaller training set and then testing it on a larger set to see \n",
    "#how well it still classifies the data.\n",
    "X_train, X_test, y_train, y_test = train_test_split(X_S, Y_S, test_size=0.90, random_state=42, stratify = Y_S )\n",
    "model_HW_rbf_tt = SVC(kernel='rbf', C=1)\n",
    "model_HW_rbf_tt.fit(X_train, y_train)\n",
    "\n"
   ]
  },
  {
   "cell_type": "code",
   "execution_count": 18,
   "metadata": {},
   "outputs": [
    {
     "name": "stdout",
     "output_type": "stream",
     "text": [
      "cross-validated estimated class for each input data point\n",
      "[0 0 0 ... 0 1 0]\n",
      "score by cross-validation:\n",
      "[0.97087912 0.97252747 0.97087912 0.97141286 0.97471138]\n",
      "Average Score across all folds:\n",
      "0.9720819916751747\n",
      "\n",
      "Signed (labeled psotive or negative based on side of hyperplane) proportional distance from hyperplane\n",
      "[-1.45613862 -0.27442897 -1.21994061 ... -1.43660134  2.06810163\n",
      " -1.49576622]\n",
      "\n",
      "Confusion Matrix:\n"
     ]
    },
    {
     "data": {
      "text/plain": [
       "array([[7649,  118],\n",
       "       [ 179, 1152]], dtype=int64)"
      ]
     },
     "execution_count": 18,
     "metadata": {},
     "output_type": "execute_result"
    }
   ],
   "source": [
    "skf = 5\n",
    "\n",
    "cvp = cross_val_predict(model_HW_rbf_tt, X_test, y_test, cv = skf)\n",
    "print(\"cross-validated estimated class for each input data point\")\n",
    "print(cvp)\n",
    "\n",
    "cvs = cross_val_score(model_HW_rbf_tt, X_test, y_test, cv = skf)\n",
    "print(\"score by cross-validation:\")\n",
    "print(cvs)\n",
    "print(\"Average Score across all folds:\")\n",
    "print(np.sum(cvs)/np.size(cvs))\n",
    "print()\n",
    "#print(\"area under ROC:\")\n",
    "#print(roc_auc_score(y_a, model.predict_proba(GEC_R3404_S1)[:,1]))\n",
    "\n",
    "print(\"Signed (labeled psotive or negative based on side of hyperplane) proportional distance from hyperplane\")\n",
    "print(model_HW_rbf_tt.decision_function(X_test))\n",
    "print()\n",
    "\n",
    "print(\"Confusion Matrix:\")\n",
    "pred = model_HW_rbf_tt.predict(X_test)\n",
    "confusion_matrix(y_test, pred)"
   ]
  },
  {
   "cell_type": "markdown",
   "metadata": {},
   "source": [
    "#### (8) What if you can change the numbers of individual cell types that you collect? Is the model you obtain sensitive to the number of cells in each group to the same extent? Try this with one cell population."
   ]
  },
  {
   "cell_type": "markdown",
   "metadata": {},
   "source": [
    "I attempted this on the healthy cell population below and it seems that the number of cells in the groupings is not highly sensitive to the group numbers. It may be different if you were to remove a whole group or almost an entire group, but if you were keeping the cross validation stratified, you would not see much of a change in cross validation. Therefore, it seems it is not sensitive to the cell population. "
   ]
  },
  {
   "cell_type": "code",
   "execution_count": 19,
   "metadata": {},
   "outputs": [
    {
     "name": "stdout",
     "output_type": "stream",
     "text": [
      "8629 322 1157\n",
      "[[7.705762982 0.991449117 0.023529412 ... 5 0.0 'WBC']\n",
      " [296.6765314 3.069243717 0.515789474 ... 25 0.037782722 'WBC']\n",
      " [537.4848843 1.001452451 0.058823529 ... 3 0.0 'WBC']\n",
      " ...\n",
      " [1317821.402 1.283510472 0.141818182 ... 14 0.014726313 'MCF7']\n",
      " [1317917.726 0.852800337 0.191740413 ... 19 0.021743189 'MCF7']\n",
      " [1318017.902 0.862816227 0.252525253 ... 3 0.0 'MCF7']]\n"
     ]
    }
   ],
   "source": [
    "# Answer\n",
    "Mat = mat.to_numpy()\n",
    "\n",
    "wbc =mat.loc[mat['Sample'] == \"WBC\"]\n",
    "hl =mat.loc[mat['Sample'] == \"HL60\"]\n",
    "mc =mat.loc[mat['Sample'] == \"MCF7\"]\n",
    "\n",
    "i = 0\n",
    "j = 0\n",
    "k = 0\n",
    "for VJ in (mat.Sample):\n",
    "    if VJ == \"WBC\":\n",
    "        i = i +1\n",
    "    elif VJ==\"HL60\":\n",
    "        j = j +1\n",
    "    elif VJ == \"MCF7\":\n",
    "        k = k +1\n",
    "        \n",
    "print(i, j, k)\n",
    "\n",
    "WBC = np.zeros([4316, 20])\n",
    "HL60 = np.zeros([322, 20])\n",
    "MCF7 = np.zeros([1157, 20])\n",
    "\n",
    "wbc_half = wbc.loc[0:4316]\n",
    "WBC_H = wbc_half.to_numpy()\n",
    "HL60 = hl.to_numpy()\n",
    "MCF7 = mc.to_numpy()\n",
    "\n",
    "df1 = wbc_half.append(hl)\n",
    "df_test = df1.append(mc)\n",
    "\n",
    "test_new = np.append(WBC_H, HL60,0)\n",
    "test_new = np.append(test_new, MCF7,0)\n",
    "print(test_new)\n",
    "\n",
    "\n"
   ]
  },
  {
   "cell_type": "code",
   "execution_count": 20,
   "metadata": {},
   "outputs": [
    {
     "name": "stdout",
     "output_type": "stream",
     "text": [
      "19\n",
      "5796\n",
      "cross-validated estimated class for each input data point\n",
      "[0 0 0 ... 1 1 1]\n",
      "score by cross-validation:\n",
      "[0.92931034 0.96031061 0.97756687 0.98101812 0.9732528 ]\n",
      "Average Score across all folds:\n",
      "0.9642917497247925\n",
      "\n",
      "Signed (labeled psotive or negative based on side of hyperplane) proportional distance from hyperplane\n",
      "[-1.08778513 -0.99994056 -1.22979976 ...  1.33047522  1.33464171\n",
      "  2.32618789]\n",
      "\n",
      "Confusion Matrix:\n"
     ]
    },
    {
     "data": {
      "text/plain": [
       "array([[4292,   25],\n",
       "       [  85, 1394]], dtype=int64)"
      ]
     },
     "execution_count": 20,
     "metadata": {},
     "output_type": "execute_result"
    }
   ],
   "source": [
    "scaler = preprocessing.StandardScaler().fit(test_new[:,:19])\n",
    "scaled_Vars = scaler.transform(test_new[:,:19])\n",
    "\n",
    "Cancer_Cell = []\n",
    "Healthy_Cell = []\n",
    "X_S_t = scaled_Vars\n",
    "\n",
    "for VII in df_test[\"Sample\"]:\n",
    "    if VII == \"WBC\":\n",
    "        Cancer_Cell.append(0)\n",
    "        Healthy_Cell.append(1)\n",
    "    elif VII==\"HL60\":\n",
    "        Cancer_Cell.append(1)\n",
    "        Healthy_Cell.append(0)\n",
    "    elif VII == \"MCF7\":\n",
    "        Cancer_Cell.append(1)\n",
    "        Healthy_Cell.append(0)\n",
    "\n",
    "\n",
    "Cancer_Cell_t = np.array(Cancer_Cell)\n",
    "Y_S_t = (Cancer_Cell_t)\n",
    "print(np.size(X_S_t, 1))\n",
    "print(np.size(Y_S_t,0))\n",
    "\n",
    "model_HW_rbf_new_t = SVC(kernel='rbf', C=1)\n",
    "model_HW_rbf_new_t.fit(X_S_t, Y_S_t)\n",
    "\n",
    "skf = 5\n",
    "\n",
    "cvp = cross_val_predict(model_HW_rbf_new_t, X_S_t, Y_S_t, cv = skf)\n",
    "print(\"cross-validated estimated class for each input data point\")\n",
    "print(cvp)\n",
    "\n",
    "cvs = cross_val_score(model_HW_rbf_new_t, X_S_t, Y_S_t, cv = skf)\n",
    "print(\"score by cross-validation:\")\n",
    "print(cvs)\n",
    "print(\"Average Score across all folds:\")\n",
    "print(np.sum(cvs)/np.size(cvs))\n",
    "print()\n",
    "#print(\"area under ROC:\")\n",
    "#print(roc_auc_score(y_a, model.predict_proba(GEC_R3404_S1)[:,1]))\n",
    "\n",
    "print(\"Signed (labeled psotive or negative based on side of hyperplane) proportional distance from hyperplane\")\n",
    "print(model_HW_rbf_new_t.decision_function(X_S_t))\n",
    "print()\n",
    "\n",
    "print(\"Confusion Matrix:\")\n",
    "pred = model_HW_rbf_new_t.predict(X_S_t)\n",
    "confusion_matrix(Y_S_t, pred)"
   ]
  },
  {
   "cell_type": "markdown",
   "metadata": {},
   "source": [
    "#### (9) You want to save your fit model, but want to reduce it so that you don't have to carry around all the data points. Which points could you remove and still have the same SVM model in the end?"
   ]
  },
  {
   "cell_type": "markdown",
   "metadata": {},
   "source": [
    "Answer\n",
    "You could remove any of the points as long as you kept just the support vectors. The SVM model is only described by the three support vectors, so removing all other points will not affect the model at all. "
   ]
  },
  {
   "cell_type": "markdown",
   "metadata": {},
   "source": [
    "#### (10) Your collaborator collects completely new data and brings it to you for classification. You take your chosen optimal model from (7) and classify each cell. Would you expect your model to perform better, identically, or worse than before? Why?"
   ]
  },
  {
   "cell_type": "markdown",
   "metadata": {},
   "source": [
    "# Answer\n",
    "I would expect the model to perform as well or slightly better than the cross validated average score percentage. This is because these cross validated models were trained and tested repeatedly over stratified group, meaning that each trained data had no knowledge of the test data. And because these models were built on a lower amount of training data than the real model the average prediction error would be higher. Therefore, I would expect the true model to perform slightly better. "
   ]
  },
  {
   "cell_type": "markdown",
   "metadata": {},
   "source": [
    "#### (11) As a prior distribution, assume that, among patients coming in for testing, 99% are cancer-free in the end. Estimate how well your assay needs to perform for 90% of positive tests to in fact have cancer."
   ]
  },
  {
   "cell_type": "markdown",
   "metadata": {},
   "source": [
    "# Answer\n",
    "Using Bayesian statistics. \n",
    "If the prior 0.99 for having cancer and and our desired True positive rate is 0.9, that means if we had 1000 patients come to take the test, on average 10 would have cancer and 990 would not have cancer. We would want a Treu positive rate of 0.9 meaning for every 1 False positve there would be 9 True positives. If we take this ration and apply it to the prior and the hypothetical case, we see that there would be 9 true positives, and 1 false positive. Then the amount of false negatives would be 1 and the amount of true negatives would be 989. Therefore the assay would have to be 90% sensitive and 99.9% specific. "
   ]
  }
 ],
 "metadata": {
  "kernel_info": {
   "name": "python3"
  },
  "kernelspec": {
   "display_name": "Python 3 (ipykernel)",
   "language": "python",
   "name": "python3"
  },
  "language_info": {
   "codemirror_mode": {
    "name": "ipython",
    "version": 3
   },
   "file_extension": ".py",
   "mimetype": "text/x-python",
   "name": "python",
   "nbconvert_exporter": "python",
   "pygments_lexer": "ipython3",
   "version": "3.9.7"
  },
  "nteract": {
   "version": "0.2.0"
  }
 },
 "nbformat": 4,
 "nbformat_minor": 4
}
